{
 "cells": [
  {
   "cell_type": "markdown",
   "id": "ea36789e",
   "metadata": {},
   "source": [
    "## Задача 1.\n",
    "### На складе лежат разные фрукты в разном количестве. Нужно написать функцию, которая на вход принимает любое количество названий фруктов и их количество, а возвращает общее количество фруктов на складе"
   ]
  },
  {
   "cell_type": "code",
   "execution_count": 30,
   "id": "1d1f98e6",
   "metadata": {},
   "outputs": [],
   "source": [
    "# принимает словарь {строка: число}, может принять любое количество строк и любое кол-во чисел\n",
    "# возвращает одно число (общее кол-во, то есть сумму всех строк и чисел)\n",
    "\n",
    "def calc_fruit(**kwargs):\n",
    "    for k, v in kwargs.items():\n",
    "        a = sum(kwargs.values())\n",
    "        print(f'{k} - {v}')\n",
    "    print(f'Общее количество фруктов на складе: {a}')"
   ]
  },
  {
   "cell_type": "code",
   "execution_count": 31,
   "id": "99044eef",
   "metadata": {},
   "outputs": [
    {
     "name": "stdout",
     "output_type": "stream",
     "text": [
      "apple - 5\n",
      "orange - 6\n",
      "Общее количество фруктов на складе: 11\n"
     ]
    }
   ],
   "source": [
    "calc_fruit(apple=5, orange=6)"
   ]
  },
  {
   "cell_type": "markdown",
   "id": "7c814406",
   "metadata": {},
   "source": [
    "## Задача 2.\n",
    "\n",
    "### Дан список с затратами на рекламу. Но в данных есть ошибки, некоторые затраты имеют отрицательную величину. Удалите такие значения из списка и посчитайте суммарные затраты \n",
    "### [100, 125, -90, 345, 655, -1, 0, 200]\n",
    "\n",
    "### Используйте list comprehensions"
   ]
  },
  {
   "cell_type": "code",
   "execution_count": 70,
   "id": "661da328",
   "metadata": {},
   "outputs": [],
   "source": [
    "# ! способ. Без list comprehensions\n",
    "\n",
    "lst = [100, 125, -90, 345, 655, -1, 0, 200]\n",
    "\n",
    "def zatraty(a: list) -> list:\n",
    "    new_lst = []\n",
    "    for i in a:\n",
    "        if i > 0:\n",
    "            new_lst.append(i)\n",
    "    print(new_lst) \n",
    "\n",
    "    \n",
    "    sum_zatraty = 0\n",
    "    for j in new_lst:\n",
    "        sum_zatraty += j\n",
    "    print(sum_zatraty)"
   ]
  },
  {
   "cell_type": "code",
   "execution_count": 71,
   "id": "6e043e34",
   "metadata": {},
   "outputs": [
    {
     "name": "stdout",
     "output_type": "stream",
     "text": [
      "[100, 125, 345, 655, 200]\n",
      "1425\n"
     ]
    }
   ],
   "source": [
    "zatraty(lst)"
   ]
  },
  {
   "cell_type": "code",
   "execution_count": 153,
   "id": "41fb57bb",
   "metadata": {},
   "outputs": [
    {
     "data": {
      "text/plain": [
       "1425"
      ]
     },
     "execution_count": 153,
     "metadata": {},
     "output_type": "execute_result"
    }
   ],
   "source": [
    "# 2 способ. list comprehensions\n",
    "\n",
    "\n",
    "lst = [100, 125, -90, 345, 655, -1, 0, 200]\n",
    "\n",
    "sum_zatraty = sum (i for i in lst if i > 0)\n",
    "sum_zatraty"
   ]
  },
  {
   "cell_type": "markdown",
   "id": "1366101f",
   "metadata": {},
   "source": [
    "## Задача 3\n",
    "### Даны два списка.\n",
    "### Дата покупки \n",
    " ['2021-09-14', '2021-12-15', '2021-09-08', '2021-12-05', '2021-10-09', '2021-09-30', '2021-12-22', '2021-11-29', '2021-12-24', '2021-11-26', '2021-10-27', '2021-12-18', '2021-11-09', '2021-11-23', '2021-09-27',\n",
    "'2021-10-02', '2021-12-27', '2021-09-20', '2021-12-13', '2021-11-01', '2021-11-09', '2021-12-06', '2021-12-08', '2021-10-09', '2021-10-31', '2021-09-30', '2021-11-09', '2021-12-13', '2021-10-26', '2021-12-09']\n",
    "\n",
    "### Суммы покупок по датам\n",
    "[1270, 8413, 9028, 3703, 5739, 4095, 295, 4944, 5723, 3701, 4471, 651, 7037, 4274, 6275, 4988, 6930, 2971, 6592, 2004, 2822, 519, 3406, 2732, 5015, 2008, 316, 6333, 5700, 2887]"
   ]
  },
  {
   "cell_type": "markdown",
   "id": "72eb8532",
   "metadata": {},
   "source": [
    "### 4.1 Найдите, какая выручка у компании в ноябре\n",
    "### Используйте list comprehensions"
   ]
  },
  {
   "cell_type": "code",
   "execution_count": 298,
   "id": "17214579",
   "metadata": {},
   "outputs": [],
   "source": [
    "date = ['2021-09-14', '2021-12-15', '2021-09-08', '2021-12-05', '2021-10-09', '2021-09-30', '2021-12-22', \n",
    "        '2021-11-29', '2021-12-24', '2021-11-26', '2021-10-27', '2021-12-18', '2021-11-09', '2021-11-23', \n",
    "        '2021-09-27', '2021-10-02', '2021-12-27', '2021-09-20', '2021-12-13', '2021-11-01', '2021-11-09', \n",
    "        '2021-12-06', '2021-12-08', '2021-10-09', '2021-10-31', '2021-09-30', '2021-11-09', '2021-12-13', \n",
    "        '2021-10-26', '2021-12-09']\n",
    "\n",
    "amounts_by_date = [1270, 8413, 9028, 3703, 5739, 4095, 295, 4944, 5723, 3701, 4471, 651, 7037, 4274, 6275, \n",
    "                   4988, 6930, 2971, 6592, 2004, 2822, 519, 3406, 2732, 5015, 2008, 316, 6333, 5700, 2887]"
   ]
  },
  {
   "cell_type": "code",
   "execution_count": 285,
   "id": "cb683a71",
   "metadata": {},
   "outputs": [
    {
     "data": {
      "text/plain": [
       "25098"
      ]
     },
     "execution_count": 285,
     "metadata": {},
     "output_type": "execute_result"
    }
   ],
   "source": [
    "# 1 способ. list comprehensions\n",
    "\n",
    "from operator import itemgetter\n",
    "pattern = '11' # 11 - ноябрь\n",
    "\n",
    "sum(i for i in itemgetter(*[i for i in range(len(date)) if pattern in date[i]])(amounts_by_date))"
   ]
  },
  {
   "cell_type": "code",
   "execution_count": 312,
   "id": "dab967b7",
   "metadata": {},
   "outputs": [
    {
     "name": "stdout",
     "output_type": "stream",
     "text": [
      "Выручки за ноябрь списком: (4944, 3701, 7037, 4274, 2004, 2822, 316)\n",
      "Суммарная выручка у компании в ноябре: 25098\n"
     ]
    }
   ],
   "source": [
    "# 2 способ. Ищем -11-\n",
    "from operator import itemgetter\n",
    "\n",
    "# вывела индексы всех дат за ноябрь\n",
    "pattern = '-11-' # 11 - ноябрь\n",
    "november = ([i for i in range(len(date)) if pattern in date[i]])\n",
    "\n",
    "got = itemgetter(*november)(amounts_by_date)\n",
    "print(f'Выручки за ноябрь списком: {got}')\n",
    "\n",
    "print(f'Суммарная выручка у компании в ноябре: {sum(got)}')"
   ]
  },
  {
   "cell_type": "code",
   "execution_count": 305,
   "id": "178f514f",
   "metadata": {},
   "outputs": [],
   "source": [
    "# 3 способ\n",
    "\n",
    "def nov (a: list, b: list) -> list:\n",
    "    profit_november = []\n",
    "    \n",
    "    for i in range(len(a)-1):\n",
    "        if '-11-' in a[i]:\n",
    "            profit_november.append(b[i])\n",
    "            \n",
    "    return sum(profit_november)"
   ]
  },
  {
   "cell_type": "code",
   "execution_count": 306,
   "id": "849b08ba",
   "metadata": {},
   "outputs": [
    {
     "data": {
      "text/plain": [
       "25098"
      ]
     },
     "execution_count": 306,
     "metadata": {},
     "output_type": "execute_result"
    }
   ],
   "source": [
    "nov(date, amounts_by_date)"
   ]
  },
  {
   "cell_type": "markdown",
   "id": "e8f9daa8",
   "metadata": {},
   "source": [
    "\n",
    "### 4.2 Найдите выручку компании в зависимости от месяца. Для этого напишите функцию, которая на вход принимает список с датами и список с выручкой, а на выходе словарь, где ключи - это месяцы, а значения - это выручка. Используйте аннотирование типов"
   ]
  },
  {
   "cell_type": "code",
   "execution_count": 317,
   "id": "c62c1f9a",
   "metadata": {},
   "outputs": [],
   "source": [
    "date = ['2021-09-14', '2021-12-15', '2021-09-08', '2021-12-05', '2021-10-09', '2021-09-30', '2021-12-22', \n",
    "        '2021-11-29', '2021-12-24', '2021-11-26', '2021-10-27', '2021-12-18', '2021-11-09', '2021-11-23', \n",
    "        '2021-09-27', '2021-10-02', '2021-12-27', '2021-09-20', '2021-12-13', '2021-11-01', '2021-11-09', \n",
    "        '2021-12-06', '2021-12-08', '2021-10-09', '2021-10-31', '2021-09-30', '2021-11-09', '2021-12-13', \n",
    "        '2021-10-26', '2021-12-09']\n",
    "\n",
    "amounts_by_date = [1270, 8413, 9028, 3703, 5739, 4095, 295, 4944, 5723, 3701, 4471, 651, 7037, 4274, 6275, \n",
    "                   4988, 6930, 2971, 6592, 2004, 2822, 519, 3406, 2732, 5015, 2008, 316, 6333, 5700, 2887]"
   ]
  },
  {
   "cell_type": "code",
   "execution_count": 318,
   "id": "2d1b8755",
   "metadata": {},
   "outputs": [],
   "source": [
    "# 1 способ, через split\n",
    "\n",
    "def profit_months(a: list, b: list) -> dict:\n",
    "    profits = {}\n",
    "    for i in range(len(a)):\n",
    "        if a[i].split('-')[1] in profits.keys():\n",
    "            profits[a[i].split('-')[1]] += b[i]\n",
    "        else:\n",
    "            profits[a[i].split('-')[1]] = b[i]\n",
    "    return profits"
   ]
  },
  {
   "cell_type": "code",
   "execution_count": 319,
   "id": "0d7a26e1",
   "metadata": {},
   "outputs": [
    {
     "data": {
      "text/plain": [
       "{'09': 25647, '12': 45452, '10': 28645, '11': 25098}"
      ]
     },
     "execution_count": 319,
     "metadata": {},
     "output_type": "execute_result"
    }
   ],
   "source": [
    "profit_months(date, amounts_by_date)"
   ]
  },
  {
   "cell_type": "code",
   "execution_count": 324,
   "id": "b66eea47",
   "metadata": {},
   "outputs": [
    {
     "data": {
      "text/html": [
       "<div>\n",
       "<style scoped>\n",
       "    .dataframe tbody tr th:only-of-type {\n",
       "        vertical-align: middle;\n",
       "    }\n",
       "\n",
       "    .dataframe tbody tr th {\n",
       "        vertical-align: top;\n",
       "    }\n",
       "\n",
       "    .dataframe thead th {\n",
       "        text-align: right;\n",
       "    }\n",
       "</style>\n",
       "<table border=\"1\" class=\"dataframe\">\n",
       "  <thead>\n",
       "    <tr style=\"text-align: right;\">\n",
       "      <th></th>\n",
       "      <th>Month</th>\n",
       "      <th>Sum</th>\n",
       "    </tr>\n",
       "  </thead>\n",
       "  <tbody>\n",
       "    <tr>\n",
       "      <th>0</th>\n",
       "      <td>5</td>\n",
       "      <td>456</td>\n",
       "    </tr>\n",
       "    <tr>\n",
       "      <th>1</th>\n",
       "      <td>9</td>\n",
       "      <td>25647</td>\n",
       "    </tr>\n",
       "    <tr>\n",
       "      <th>2</th>\n",
       "      <td>10</td>\n",
       "      <td>28645</td>\n",
       "    </tr>\n",
       "    <tr>\n",
       "      <th>3</th>\n",
       "      <td>11</td>\n",
       "      <td>25098</td>\n",
       "    </tr>\n",
       "    <tr>\n",
       "      <th>4</th>\n",
       "      <td>12</td>\n",
       "      <td>45452</td>\n",
       "    </tr>\n",
       "  </tbody>\n",
       "</table>\n",
       "</div>"
      ],
      "text/plain": [
       "   Month    Sum\n",
       "0      5    456\n",
       "1      9  25647\n",
       "2     10  28645\n",
       "3     11  25098\n",
       "4     12  45452"
      ]
     },
     "execution_count": 324,
     "metadata": {},
     "output_type": "execute_result"
    }
   ],
   "source": [
    "# 2 способ, через pandas\n",
    "\n",
    "date = ['2021-09-14', '2021-12-15', '2021-09-08', '2021-12-05', '2021-10-09', '2021-09-30', '2021-12-22', \n",
    "        '2021-11-29', '2021-12-24', '2021-11-26', '2021-10-27', '2021-12-18', '2021-11-09', '2021-11-23', \n",
    "        '2021-09-27', '2021-10-02', '2021-12-27', '2021-09-20', '2021-12-13', '2021-11-01', '2021-11-09', \n",
    "        '2021-12-06', '2021-12-08', '2021-10-09', '2021-10-31', '2021-09-30', '2021-11-09', '2021-12-13', \n",
    "        '2021-10-26', '2021-12-09', '2021-05-05']\n",
    "\n",
    "amounts_by_date = [1270, 8413, 9028, 3703, 5739, 4095, 295, 4944, 5723, 3701, 4471, 651, 7037, 4274, 6275, \n",
    "                   4988, 6930, 2971, 6592, 2004, 2822, 519, 3406, 2732, 5015, 2008, 316, 6333, 5700, 2887, 456]\n",
    " \n",
    "import pandas as pd\n",
    "import datetime\n",
    " \n",
    "df = pd.DataFrame()\n",
    "df['Date'] = [datetime.datetime.strptime(i, '%Y-%m-%d') for i in date]\n",
    "df['Sum'] = amounts_by_date\n",
    "df['Month'] = pd.DatetimeIndex(df['Date']).month\n",
    "df.groupby('Month', as_index=False).aggregate({'Sum':sum})"
   ]
  },
  {
   "cell_type": "code",
   "execution_count": 315,
   "id": "2b9087a7",
   "metadata": {},
   "outputs": [],
   "source": [
    "# 3 способ itemgetter\n",
    "\n",
    "def amounts_by_months(a: list, b: list) -> dict :\n",
    "    dict = {}\n",
    "    for i in range (len(a)):\n",
    "        dict[a[i]] = b[i]    \n",
    "    print(dict)\n",
    "    print()\n",
    "    \n",
    "    january = '-01-'    \n",
    "    february = '-02-'\n",
    "    march = '-03-'\n",
    "    april = '-04-'\n",
    "    may = '-05-'\n",
    "    june = '-06-'\n",
    "    july = '-07-'\n",
    "    august = '-08-'\n",
    "    september = '-09-'\n",
    "    october = '-10-'\n",
    "    november = '-11-'\n",
    "    december = '-12-'\n",
    "    \n",
    "    dict2 = {} # Вывод всего словаря\n",
    "\n",
    "    for i in dict:\n",
    "        dict2['september'] = sum(i for i in itemgetter(*[i for i in range(len(date)) if september in date[i]])(amounts_by_date))\n",
    "        dict2['october'] = sum(i for i in itemgetter(*[i for i in range(len(date)) if october in date[i]])(amounts_by_date))\n",
    "        dict2['november'] = sum(i for i in itemgetter(*[i for i in range(len(date)) if november in date[i]])(amounts_by_date))\n",
    "        dict2['december'] = sum(i for i in itemgetter(*[i for i in range(len(date)) if december in date[i]])(amounts_by_date))   \n",
    "    \n",
    "    print(dict2) # Вывод словаря сумм"
   ]
  },
  {
   "cell_type": "code",
   "execution_count": 316,
   "id": "c573717f",
   "metadata": {},
   "outputs": [
    {
     "name": "stdout",
     "output_type": "stream",
     "text": [
      "{'2021-09-14': 1270, '2021-12-15': 8413, '2021-09-08': 9028, '2021-12-05': 3703, '2021-10-09': 2732, '2021-09-30': 2008, '2021-12-22': 295, '2021-11-29': 4944, '2021-12-24': 5723, '2021-11-26': 3701, '2021-10-27': 4471, '2021-12-18': 651, '2021-11-09': 316, '2021-11-23': 4274, '2021-09-27': 6275, '2021-10-02': 4988, '2021-12-27': 6930, '2021-09-20': 2971, '2021-12-13': 6333, '2021-11-01': 2004, '2021-12-06': 519, '2021-12-08': 3406, '2021-10-31': 5015, '2021-10-26': 5700, '2021-12-09': 2887}\n",
      "\n",
      "{'september': 25647, 'october': 28645, 'november': 25098, 'december': 45452}\n"
     ]
    }
   ],
   "source": [
    "amounts_by_months(date, amounts_by_date)"
   ]
  }
 ],
 "metadata": {
  "kernelspec": {
   "display_name": "Python 3 (ipykernel)",
   "language": "python",
   "name": "python3"
  },
  "language_info": {
   "codemirror_mode": {
    "name": "ipython",
    "version": 3
   },
   "file_extension": ".py",
   "mimetype": "text/x-python",
   "name": "python",
   "nbconvert_exporter": "python",
   "pygments_lexer": "ipython3",
   "version": "3.10.9"
  }
 },
 "nbformat": 4,
 "nbformat_minor": 5
}
